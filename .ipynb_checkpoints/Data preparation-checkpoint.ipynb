{
 "cells": [
  {
   "cell_type": "code",
   "execution_count": 1,
   "metadata": {},
   "outputs": [],
   "source": [
    "import os\n",
    "from PIL import Image\n",
    "import numpy as np\n",
    "import matplotlib.pyplot as plt"
   ]
  },
  {
   "cell_type": "markdown",
   "metadata": {},
   "source": [
    "# Separating Input and Mask"
   ]
  },
  {
   "cell_type": "code",
   "execution_count": 2,
   "metadata": {},
   "outputs": [],
   "source": [
    "def split_image(image):\n",
    "    image = np.array(image)\n",
    "    input_image, mask_image = image[:,:256,:] , image[:,256:,:]\n",
    "    return input_image, mask_image"
   ]
  },
  {
   "cell_type": "code",
   "execution_count": 3,
   "metadata": {},
   "outputs": [
    {
     "ename": "FileNotFoundError",
     "evalue": "[WinError 3] The system cannot find the path specified: 'D:\\\\Projects\\\\Semantic Segmentation\\\\Notebooks\\\\cityscapes_data\\\\train'",
     "output_type": "error",
     "traceback": [
      "\u001b[1;31m---------------------------------------------------------------------------\u001b[0m",
      "\u001b[1;31mFileNotFoundError\u001b[0m                         Traceback (most recent call last)",
      "\u001b[1;32m<ipython-input-3-bd5964f6015a>\u001b[0m in \u001b[0;36m<module>\u001b[1;34m\u001b[0m\n\u001b[0;32m      3\u001b[0m \u001b[0mval_dir\u001b[0m \u001b[1;33m=\u001b[0m \u001b[0mos\u001b[0m\u001b[1;33m.\u001b[0m\u001b[0mpath\u001b[0m\u001b[1;33m.\u001b[0m\u001b[0mjoin\u001b[0m\u001b[1;33m(\u001b[0m\u001b[0mdata_dir\u001b[0m\u001b[1;33m,\u001b[0m \u001b[1;34m\"val\"\u001b[0m\u001b[1;33m)\u001b[0m\u001b[1;33m\u001b[0m\u001b[1;33m\u001b[0m\u001b[0m\n\u001b[0;32m      4\u001b[0m \u001b[1;33m\u001b[0m\u001b[0m\n\u001b[1;32m----> 5\u001b[1;33m \u001b[0mtrain_name_list\u001b[0m \u001b[1;33m=\u001b[0m \u001b[0mos\u001b[0m\u001b[1;33m.\u001b[0m\u001b[0mlistdir\u001b[0m\u001b[1;33m(\u001b[0m\u001b[0mtrain_dir\u001b[0m\u001b[1;33m)\u001b[0m\u001b[1;33m\u001b[0m\u001b[1;33m\u001b[0m\u001b[0m\n\u001b[0m\u001b[0;32m      6\u001b[0m \u001b[0mval_name_list\u001b[0m \u001b[1;33m=\u001b[0m \u001b[0mos\u001b[0m\u001b[1;33m.\u001b[0m\u001b[0mlistdir\u001b[0m\u001b[1;33m(\u001b[0m\u001b[0mval_dir\u001b[0m\u001b[1;33m)\u001b[0m\u001b[1;33m\u001b[0m\u001b[1;33m\u001b[0m\u001b[0m\n\u001b[0;32m      7\u001b[0m \u001b[1;33m\u001b[0m\u001b[0m\n",
      "\u001b[1;31mFileNotFoundError\u001b[0m: [WinError 3] The system cannot find the path specified: 'D:\\\\Projects\\\\Semantic Segmentation\\\\Notebooks\\\\cityscapes_data\\\\train'"
     ]
    }
   ],
   "source": [
    "data_dir = os.path.join(\"D:\\\\Projects\\\\Semantic Segmentation\\\\Notebooks\\\\cityscapes_data\")   \n",
    "train_dir = os.path.join(data_dir, \"train\")\n",
    "val_dir = os.path.join(data_dir, \"val\")\n",
    "\n",
    "train_name_list = os.listdir(train_dir)\n",
    "val_name_list = os.listdir(val_dir)\n",
    "\n",
    "print(len(train_name_list))\n",
    "print(len(val_name_list))"
   ]
  },
  {
   "cell_type": "code",
   "execution_count": 4,
   "metadata": {},
   "outputs": [],
   "source": [
    "CREATE_TRAIN_DATA = \"NO\"\n",
    "\n",
    "if CREATE_TRAIN_DATA is \"YES\":\n",
    "    for train_image_name in train_name_list:\n",
    "        train_image = os.path.join(train_dir, train_image_name)\n",
    "        train_image = Image.open(train_image).convert(\"RGB\")\n",
    "        input_image, mask_image = split_image(train_image)\n",
    "\n",
    "        train_input_filename = train_image_name \n",
    "        train_input_filename = train_input_filename.replace(\".jpg\",\"_input.jpg\")\n",
    "        path_train_input = \"D:\\\\Projects\\\\Semantic Segmentation\\\\Notebooks\\\\cityscapes_data\\\\train_input\\\\\"\n",
    "        input_image = Image.fromarray(np.uint8(input_image)).convert('RGB')\n",
    "        input_image.save( path_train_input + train_input_filename, \"JPEG\" )\n",
    "\n",
    "        train_mask_filename = train_image_name \n",
    "        train_mask_filename = train_mask_filename.replace(\".jpg\",\"_mask.jpg\")\n",
    "        path_train_mask = \"D:\\\\Projects\\\\Semantic Segmentation\\\\Notebooks\\\\cityscapes_data\\\\train_mask\\\\\"\n",
    "        mask_image = Image.fromarray(np.uint8(mask_image)).convert('RGB')\n",
    "        mask_image.save(path_train_mask + train_mask_filename, \"JPEG\")\n",
    "\n",
    "    print(\"Done creating training data.\")"
   ]
  },
  {
   "cell_type": "code",
   "execution_count": 5,
   "metadata": {},
   "outputs": [],
   "source": [
    "CREATE_VAL_DATA = \"NO\"\n",
    "\n",
    "if CREATE_VAL_DATA is \"YES\":\n",
    "    for val_image_name in val_name_list:\n",
    "        val_image = os.path.join(val_dir, val_image_name)\n",
    "        val_image = Image.open(val_image).convert(\"RGB\")\n",
    "        input_image, mask_image = split_image(val_image)\n",
    "\n",
    "        val_input_filename = val_image_name \n",
    "        val_input_filename = val_input_filename.replace(\".jpg\",\"_input.jpg\")\n",
    "        path_val_input = \"D:\\\\Projects\\\\Semantic Segmentation\\\\Notebooks\\\\cityscapes_data\\\\val_input\\\\\"\n",
    "        input_image = Image.fromarray(np.uint8(input_image)).convert('RGB')\n",
    "        input_image.save( path_val_input + val_input_filename, \"JPEG\" )\n",
    "\n",
    "        val_mask_filename = val_image_name \n",
    "        val_mask_filename = val_mask_filename.replace(\".jpg\", \"_mask.jpg\")\n",
    "        path_val_mask = \"D:\\\\Projects\\\\Semantic Segmentation\\\\Notebooks\\\\cityscapes_data\\\\val_mask\\\\\"\n",
    "        mask_image = Image.fromarray(np.uint8(mask_image)).convert('RGB')\n",
    "        mask_image.save(path_val_mask + val_mask_filename, \"JPEG\")\n",
    "\n",
    "    print(\"Done creating val data.\")"
   ]
  },
  {
   "cell_type": "markdown",
   "metadata": {},
   "source": [
    "# Converting Masks to Nearest Color Neighbors"
   ]
  },
  {
   "cell_type": "code",
   "execution_count": 6,
   "metadata": {},
   "outputs": [],
   "source": [
    "# Colour List.\n",
    "from collections import namedtuple\n",
    "\n",
    "Label = namedtuple( 'Label' , [\n",
    "\n",
    "    'name'        , # The identifier of this label, e.g. 'car', 'person', ... .\n",
    "                    # We use them to uniquely name a class\n",
    "\n",
    "    'id'          , # An integer ID that is associated with this label.\n",
    "                    # The IDs are used to represent the label in ground truth images\n",
    "                    # An ID of -1 means that this label does not have an ID and thus\n",
    "                    # is ignored when creating ground truth images (e.g. license plate).\n",
    "                    # Do not modify these IDs, since exactly these IDs are expected by the\n",
    "                    # evaluation server.\n",
    "\n",
    "    'trainId'     , # Feel free to modify these IDs as suitable for your method. Then create\n",
    "                    # ground truth images with train IDs, using the tools provided in the\n",
    "                    # 'preparation' folder. However, make sure to validate or submit results\n",
    "                    # to our evaluation server using the regular IDs above!\n",
    "                    # For trainIds, multiple labels might have the same ID. Then, these labels\n",
    "                    # are mapped to the same class in the ground truth images. For the inverse\n",
    "                    # mapping, we use the label that is defined first in the list below.\n",
    "                    # For example, mapping all void-type classes to the same ID in training,\n",
    "                    # might make sense for some approaches.\n",
    "                    # Max value is 255!\n",
    "\n",
    "    'category'    , # The name of the category that this label belongs to\n",
    "\n",
    "    'categoryId'  , # The ID of this category. Used to create ground truth images\n",
    "                    # on category level.\n",
    "\n",
    "    'hasInstances', # Whether this label distinguishes between single instances or not\n",
    "\n",
    "    'ignoreInEval', # Whether pixels having this class as ground truth label are ignored\n",
    "                    # during evaluations or not\n",
    "\n",
    "    'color'       , # The color of this label\n",
    "    ] )\n",
    "\n",
    "\n",
    "labels = [\n",
    "    #       name                     id    trainId   category            catId     hasInstances   ignoreInEval   color\n",
    "    Label(  'unlabeled'            ,  0 ,      255 , 'void'            , 0       , False        , True         , (  0,  0,  0) ),\n",
    "    Label(  'ego vehicle'          ,  1 ,      255 , 'void'            , 0       , False        , True         , (  0,  0,  0) ),\n",
    "    Label(  'rectification border' ,  2 ,      255 , 'void'            , 0       , False        , True         , (  0,  0,  0) ),\n",
    "    Label(  'out of roi'           ,  3 ,      255 , 'void'            , 0       , False        , True         , (  0,  0,  0) ),\n",
    "    Label(  'static'               ,  4 ,      255 , 'void'            , 0       , False        , True         , (  0,  0,  0) ),\n",
    "    Label(  'dynamic'              ,  5 ,      255 , 'void'            , 0       , False        , True         , (111, 74,  0) ),\n",
    "    Label(  'ground'               ,  6 ,      255 , 'void'            , 0       , False        , True         , ( 81,  0, 81) ),\n",
    "    Label(  'road'                 ,  7 ,        0 , 'flat'            , 1       , False        , False        , (128, 64,128) ),\n",
    "    Label(  'sidewalk'             ,  8 ,        1 , 'flat'            , 1       , False        , False        , (244, 35,232) ),\n",
    "    Label(  'parking'              ,  9 ,      255 , 'flat'            , 1       , False        , True         , (250,170,160) ),\n",
    "    Label(  'rail track'           , 10 ,      255 , 'flat'            , 1       , False        , True         , (230,150,140) ),\n",
    "    Label(  'building'             , 11 ,        2 , 'construction'    , 2       , False        , False        , ( 70, 70, 70) ),\n",
    "    Label(  'wall'                 , 12 ,        3 , 'construction'    , 2       , False        , False        , (102,102,156) ),\n",
    "    Label(  'fence'                , 13 ,        4 , 'construction'    , 2       , False        , False        , (190,153,153) ),\n",
    "    Label(  'guard rail'           , 14 ,      255 , 'construction'    , 2       , False        , True         , (180,165,180) ),\n",
    "    Label(  'bridge'               , 15 ,      255 , 'construction'    , 2       , False        , True         , (150,100,100) ),\n",
    "    Label(  'tunnel'               , 16 ,      255 , 'construction'    , 2       , False        , True         , (150,120, 90) ),\n",
    "    Label(  'pole'                 , 17 ,        5 , 'object'          , 3       , False        , False        , (153,153,153) ),\n",
    "    Label(  'polegroup'            , 18 ,      255 , 'object'          , 3       , False        , True         , (153,153,153) ),\n",
    "    Label(  'traffic light'        , 19 ,        6 , 'object'          , 3       , False        , False        , (250,170, 30) ),\n",
    "    Label(  'traffic sign'         , 20 ,        7 , 'object'          , 3       , False        , False        , (220,220,  0) ),\n",
    "    Label(  'vegetation'           , 21 ,        8 , 'nature'          , 4       , False        , False        , (107,142, 35) ),\n",
    "    Label(  'terrain'              , 22 ,        9 , 'nature'          , 4       , False        , False        , (152,251,152) ),\n",
    "    Label(  'sky'                  , 23 ,       10 , 'sky'             , 5       , False        , False        , ( 70,130,180) ),\n",
    "    Label(  'person'               , 24 ,       11 , 'human'           , 6       , True         , False        , (220, 20, 60) ),\n",
    "    Label(  'rider'                , 25 ,       12 , 'human'           , 6       , True         , False        , (255,  0,  0) ),\n",
    "    Label(  'car'                  , 26 ,       13 , 'vehicle'         , 7       , True         , False        , (  0,  0,142) ),\n",
    "    Label(  'truck'                , 27 ,       14 , 'vehicle'         , 7       , True         , False        , (  0,  0, 70) ),\n",
    "    Label(  'bus'                  , 28 ,       15 , 'vehicle'         , 7       , True         , False        , (  0, 60,100) ),\n",
    "    Label(  'caravan'              , 29 ,      255 , 'vehicle'         , 7       , True         , True         , (  0,  0, 90) ),\n",
    "    Label(  'trailer'              , 30 ,      255 , 'vehicle'         , 7       , True         , True         , (  0,  0,110) ),\n",
    "    Label(  'train'                , 31 ,       16 , 'vehicle'         , 7       , True         , False        , (  0, 80,100) ),\n",
    "    Label(  'motorcycle'           , 32 ,       17 , 'vehicle'         , 7       , True         , False        , (  0,  0,230) ),\n",
    "    Label(  'bicycle'              , 33 ,       18 , 'vehicle'         , 7       , True         , False        , (119, 11, 32) ),\n",
    "    Label(  'license plate'        , -1 ,       -1 , 'vehicle'         , 7       , False        , True         , (  0,  0,142) ),\n",
    "]"
   ]
  },
  {
   "cell_type": "code",
   "execution_count": 7,
   "metadata": {},
   "outputs": [
    {
     "name": "stdout",
     "output_type": "stream",
     "text": [
      "[(0, 0, 0), (0, 0, 0), (0, 0, 0), (0, 0, 0), (0, 0, 0), (111, 74, 0), (81, 0, 81), (128, 64, 128), (244, 35, 232), (250, 170, 160), (230, 150, 140), (70, 70, 70), (102, 102, 156), (190, 153, 153), (180, 165, 180), (150, 100, 100), (150, 120, 90), (153, 153, 153), (153, 153, 153), (250, 170, 30), (220, 220, 0), (107, 142, 35), (152, 251, 152), (70, 130, 180), (220, 20, 60), (255, 0, 0), (0, 0, 142), (0, 0, 70), (0, 60, 100), (0, 0, 90), (0, 0, 110), (0, 80, 100), (0, 0, 230), (119, 11, 32), (0, 0, 142)]\n",
      "[[  0   0   0]\n",
      " [  0   0   0]\n",
      " [  0   0   0]\n",
      " [  0   0   0]\n",
      " [  0   0   0]\n",
      " [111  74   0]\n",
      " [ 81   0  81]\n",
      " [128  64 128]\n",
      " [244  35 232]\n",
      " [250 170 160]\n",
      " [230 150 140]\n",
      " [ 70  70  70]\n",
      " [102 102 156]\n",
      " [190 153 153]\n",
      " [180 165 180]\n",
      " [150 100 100]\n",
      " [150 120  90]\n",
      " [153 153 153]\n",
      " [153 153 153]\n",
      " [250 170  30]\n",
      " [220 220   0]\n",
      " [107 142  35]\n",
      " [152 251 152]\n",
      " [ 70 130 180]\n",
      " [220  20  60]\n",
      " [255   0   0]\n",
      " [  0   0 142]\n",
      " [  0   0  70]\n",
      " [  0  60 100]\n",
      " [  0   0  90]\n",
      " [  0   0 110]\n",
      " [  0  80 100]\n",
      " [  0   0 230]\n",
      " [119  11  32]\n",
      " [  0   0 142]]\n"
     ]
    }
   ],
   "source": [
    "#Colour List\n",
    "color_palette = [label.color for label in labels]\n",
    "print(color_palette)\n",
    "color_palette_np_array = np.array(color_palette)\n",
    "print(color_palette_np_array)"
   ]
  },
  {
   "cell_type": "code",
   "execution_count": 8,
   "metadata": {},
   "outputs": [],
   "source": [
    "#Testing Unique Colour for one image\n",
    "from scipy.spatial import cKDTree\n",
    "def mask_to_actual_mask(mask_path, testing=False):\n",
    "    label = Image.open(mask_path).convert(\"RGB\")\n",
    "    label = np.array(label)\n",
    "\n",
    "    out_img = color_palette_np_array[cKDTree(color_palette_np_array).query(label,k=1)[1]]\n",
    "\n",
    "    if testing is True:\n",
    "        plt.imshow(out_img)\n",
    "        plt.show()\n",
    "\n",
    "        print(\"Mapping color to closest member of a list of colors:\")\n",
    "        print(\"No. of unique colors before shifting to nearest neighbors: \", \n",
    "              len(np.unique(label.reshape(-1, label.shape[2]), axis=0)))\n",
    "        print()\n",
    "\n",
    "        unique_color__ = np.unique(out_img.reshape(-1, out_img.shape[2]), axis=0)\n",
    "\n",
    "        print(\"No. of unique colors after shifting to nearest neighbors: \", len(unique_color__))\n",
    "    return out_img"
   ]
  },
  {
   "cell_type": "code",
   "execution_count": 9,
   "metadata": {},
   "outputs": [
    {
     "name": "stdout",
     "output_type": "stream",
     "text": [
      "2975\n",
      "500\n"
     ]
    }
   ],
   "source": [
    "data_dir = os.path.join(\"D:\\\\Projects\\\\Semantic Segmentation\\\\Notebooks\\\\cityscapes_data\")   \n",
    "train_mask_dir = os.path.join(data_dir, \"train_mask\")\n",
    "val_mask_dir = os.path.join(data_dir, \"val_mask\")\n",
    "\n",
    "train_name_list = os.listdir(train_mask_dir)\n",
    "val_name_list = os.listdir(val_mask_dir)\n",
    "\n",
    "print(len(train_name_list))\n",
    "print(len(val_name_list))"
   ]
  },
  {
   "cell_type": "code",
   "execution_count": 10,
   "metadata": {},
   "outputs": [],
   "source": [
    "FIX_TRAIN_MASK = \"NO\"\n",
    "train_mask_actual_dir = os.path.join(data_dir, \"train_mask_corrected\")\n",
    "if FIX_TRAIN_MASK is \"YES\":\n",
    "    for train_mask_filename in train_name_list:\n",
    "        train_mask_path = os.path.join(train_mask_dir, train_mask_filename)\n",
    "        train_mask_actual = mask_to_actual_mask(train_mask_path)\n",
    "        \n",
    "        train_mask_actual = Image.fromarray(np.uint8(train_mask_actual)).convert('RGB')\n",
    "\n",
    "        train_mask_actual_path = os.path.join(train_mask_actual_dir, train_mask_filename)\n",
    "        train_mask_actual.save(train_mask_actual_path, \"PNG\")\n",
    "\n",
    "    print(\"Done fixing mask data.\")"
   ]
  },
  {
   "cell_type": "code",
   "execution_count": 11,
   "metadata": {},
   "outputs": [
    {
     "data": {
      "image/png": "[encoded data removed]",
      "text/plain": [
       "<Figure size 432x288 with 1 Axes>"
      ]
     },
     "metadata": {
      "needs_background": "light"
     },
     "output_type": "display_data"
    },
    {
     "name": "stdout",
     "output_type": "stream",
     "text": [
      "No. of unique colors after shifting to nearest neighbors:  21\n",
      "(256, 256, 3)\n"
     ]
    }
   ],
   "source": [
    "mask_path = os.path.join(\"D:\\\\Projects\\\\Semantic Segmentation\\\\Notebooks\\\\cityscapes_data\\\\train_mask_corrected\\\\153_mask.jpg\")\n",
    "label = Image.open(mask_path).convert(\"RGB\")\n",
    "label = np.array(label)\n",
    "plt.imshow(label)\n",
    "plt.show()\n",
    "unique_color__ = np.unique(label.reshape(-1, label.shape[2]), axis=0)\n",
    "print(\"No. of unique colors after shifting to nearest neighbors: \", len(unique_color__))\n",
    "print(label.shape)"
   ]
  },
  {
   "cell_type": "code",
   "execution_count": 12,
   "metadata": {},
   "outputs": [],
   "source": [
    "FIX_VAL_MASK = \"NO\"\n",
    "val_mask_actual_dir = os.path.join(data_dir, \"val_mask_corrected\")\n",
    "if FIX_VAL_MASK is \"YES\":\n",
    "    for val_mask_filename in val_name_list:\n",
    "        val_mask_path = os.path.join(val_mask_dir, val_mask_filename)\n",
    "        val_mask_actual = mask_to_actual_mask(val_mask_path)\n",
    "        \n",
    "        val_mask_actual = Image.fromarray(np.uint8(val_mask_actual)).convert('RGB')\n",
    "\n",
    "        val_mask_actual_path = os.path.join(val_mask_actual_dir, val_mask_filename)\n",
    "        val_mask_actual.save(val_mask_actual_path, \"PNG\")\n",
    "\n",
    "    print(\"Done fixing val mask data.\")"
   ]
  },
  {
   "cell_type": "code",
   "execution_count": 13,
   "metadata": {},
   "outputs": [
    {
     "data": {
      "image/png": "[encoded data removed]",
      "text/plain": [
       "<Figure size 432x288 with 1 Axes>"
      ]
     },
     "metadata": {
      "needs_background": "light"
     },
     "output_type": "display_data"
    },
    {
     "name": "stdout",
     "output_type": "stream",
     "text": [
      "No. of unique colors after shifting to nearest neighbors:  19\n"
     ]
    }
   ],
   "source": [
    "mask_path = os.path.join(\"D:\\\\Projects\\\\Semantic Segmentation\\\\Notebooks\\\\cityscapes_data\\\\val_mask_corrected\\\\296_mask.jpg\")\n",
    "label = Image.open(mask_path).convert(\"RGB\")\n",
    "label = np.array(label)\n",
    "plt.imshow(label)\n",
    "plt.show()\n",
    "unique_color__ = np.unique(label.reshape(-1, label.shape[2]), axis=0)\n",
    "print(\"No. of unique colors after shifting to nearest neighbors: \", len(unique_color__))"
   ]
  },
  {
   "cell_type": "markdown",
   "metadata": {},
   "source": [
    "## Resources:\n",
    "Why we should not save labels as JPG: https://stackoverflow.com/questions/57699309/ground-truth-image-to-one-hot-encoded-array-semantic-segmentation"
   ]
  },
  {
   "cell_type": "markdown",
   "metadata": {},
   "source": [
    "# Creating the one-hot mappings"
   ]
  },
  {
   "cell_type": "code",
   "execution_count": 14,
   "metadata": {},
   "outputs": [],
   "source": [
    "import tensorflow as tf\n",
    "from tensorflow.keras.utils import to_categorical\n",
    "def create_one_hot_mask(label_1):\n",
    "    one_hot_map = []\n",
    "    for color in color_palette:\n",
    "        class_map = tf.reduce_all(tf.equal(label_1, color), axis=-1)\n",
    "        one_hot_map.append(class_map)\n",
    "\n",
    "    one_hot_map = tf.stack(one_hot_map, axis=-1)\n",
    "    one_hot_map = tf.cast(one_hot_map, tf.float32)\n",
    "\n",
    "    one_hot_mask = tf.argmax(one_hot_map, axis=-1)\n",
    "\n",
    "    return one_hot_mask"
   ]
  },
  {
   "cell_type": "code",
   "execution_count": 15,
   "metadata": {},
   "outputs": [
    {
     "name": "stdout",
     "output_type": "stream",
     "text": [
      "(256, 256)\n",
      "tf.Tensor(\n",
      "[[ 0 27  0 ...  0  0  0]\n",
      " [27 11 11 ... 11 11  0]\n",
      " [27 12 12 ... 11 11  0]\n",
      " ...\n",
      " [ 6  7  7 ...  7  7  6]\n",
      " [27 11 11 ... 11 11 27]\n",
      " [ 0  0  0 ...  0  6  0]], shape=(256, 256), dtype=int64)\n",
      "(256, 256, 35)\n"
     ]
    }
   ],
   "source": [
    "pic = create_one_hot_mask(label)\n",
    "print(pic.shape)\n",
    "print(pic)\n",
    "mask_one_hot = to_categorical(pic, num_classes = 35)\n",
    "print(mask_one_hot.shape)"
   ]
  },
  {
   "cell_type": "code",
   "execution_count": 16,
   "metadata": {},
   "outputs": [],
   "source": [
    "# data_dir = os.path.join(\"D:\\\\Projects\\\\Semantic Segmentation\\\\Notebooks\\\\cityscapes_data\")   \n",
    "# train_mask_dir = os.path.join(data_dir, \"train_mask_corrected\")\n",
    "# train_mask_list = os.listdir(train_mask_dir)\n",
    "\n",
    "# y = []\n",
    "# for train_mask_name in train_mask_list:\n",
    "#     train_mask = os.path.join(train_mask_dir, train_mask_name)\n",
    "#     train_mask = Image.open(train_mask).convert(\"RGB\")\n",
    "    \n",
    "#     train_mask = np.array(train_mask)\n",
    "#     y.append(train_mask)\n"
   ]
  },
  {
   "cell_type": "code",
   "execution_count": 17,
   "metadata": {},
   "outputs": [],
   "source": [
    "# y = np.array(y)"
   ]
  },
  {
   "cell_type": "code",
   "execution_count": 18,
   "metadata": {},
   "outputs": [],
   "source": [
    "# y.shape"
   ]
  },
  {
   "cell_type": "code",
   "execution_count": 19,
   "metadata": {},
   "outputs": [],
   "source": [
    "# def y_to_one_hot_y(mask_list):\n",
    "#     one_hot_mask_list = []\n",
    "#     for mask in mask_list:\n",
    "#         one_hot_mask_list.append(create_one_hot_mask(mask))\n",
    "#     return np.array(one_hot_mask_list)\n",
    "\n",
    "# from sklearn.preprocessing import LabelEncoder\n",
    "# labelencoder = LabelEncoder()\n",
    "# n, h, w = train_masks.shape\n",
    "# train_masks_reshaped = train_masks.reshape(-1,1)\n",
    "# train_masks_reshaped_encoded = labelencoder.fit_transform(train_masks_reshaped)\n",
    "# train_masks_encoded_original_shape = train_masks_reshaped_encoded.reshape(n, h, w)"
   ]
  },
  {
   "cell_type": "code",
   "execution_count": null,
   "metadata": {},
   "outputs": [],
   "source": []
  },
  {
   "cell_type": "code",
   "execution_count": 20,
   "metadata": {},
   "outputs": [
    {
     "data": {
      "text/plain": [
       "<matplotlib.image.AxesImage at 0x1d2e89b1348>"
      ]
     },
     "execution_count": 20,
     "metadata": {},
     "output_type": "execute_result"
    },
    {
     "data": {
      "image/png": "[encoded data removed]",
      "text/plain": [
       "<Figure size 432x288 with 1 Axes>"
      ]
     },
     "metadata": {
      "needs_background": "light"
     },
     "output_type": "display_data"
    }
   ],
   "source": [
    "plt.imshow(label)"
   ]
  },
  {
   "cell_type": "code",
   "execution_count": 22,
   "metadata": {},
   "outputs": [
    {
     "name": "stdout",
     "output_type": "stream",
     "text": [
      "(256, 256)\n",
      "tf.Tensor(\n",
      "[[ 0 27  0 ...  0  0  0]\n",
      " [27 11 11 ... 11 11  0]\n",
      " [27 12 12 ... 11 11  0]\n",
      " ...\n",
      " [ 6  7  7 ...  7  7  6]\n",
      " [27 11 11 ... 11 11 27]\n",
      " [ 0  0  0 ...  0  6  0]], shape=(256, 256), dtype=int64)\n"
     ]
    }
   ],
   "source": [
    "label_one_hot = create_one_hot_mask(label)\n",
    "print(label_one_hot.shape)\n",
    "print(label_one_hot)"
   ]
  },
  {
   "cell_type": "code",
   "execution_count": 34,
   "metadata": {},
   "outputs": [],
   "source": [
    "# label_one_hot_np = np.array(label_one_hot)\n",
    "# print(label_one_hot_np[0][1])"
   ]
  },
  {
   "cell_type": "code",
   "execution_count": 66,
   "metadata": {},
   "outputs": [],
   "source": [
    "def onehot_to_img(predicted_one_hot, color_palette):\n",
    "    one_hot_np = np.array(predicted_one_hot)\n",
    "    img = np.zeros((one_hot_np.shape[0], one_hot_np.shape[1], 3), dtype=np.uint8)\n",
    "    for h in range(one_hot_np.shape[0]):\n",
    "        for w in range(one_hot_np.shape[1]):\n",
    "            idx = one_hot_np[h][w]\n",
    "            img[h][w] = list(color_palette[idx])\n",
    "    return img\n",
    "        "
   ]
  },
  {
   "cell_type": "code",
   "execution_count": 67,
   "metadata": {},
   "outputs": [
    {
     "data": {
      "text/plain": [
       "array([[[  0,   0,   0],\n",
       "        [  0,   0,  70],\n",
       "        [  0,   0,   0],\n",
       "        ...,\n",
       "        [  0,   0,   0],\n",
       "        [  0,   0,   0],\n",
       "        [  0,   0,   0]],\n",
       "\n",
       "       [[  0,   0,  70],\n",
       "        [ 70,  70,  70],\n",
       "        [ 70,  70,  70],\n",
       "        ...,\n",
       "        [ 70,  70,  70],\n",
       "        [ 70,  70,  70],\n",
       "        [  0,   0,   0]],\n",
       "\n",
       "       [[  0,   0,  70],\n",
       "        [102, 102, 156],\n",
       "        [102, 102, 156],\n",
       "        ...,\n",
       "        [ 70,  70,  70],\n",
       "        [ 70,  70,  70],\n",
       "        [  0,   0,   0]],\n",
       "\n",
       "       ...,\n",
       "\n",
       "       [[ 81,   0,  81],\n",
       "        [128,  64, 128],\n",
       "        [128,  64, 128],\n",
       "        ...,\n",
       "        [128,  64, 128],\n",
       "        [128,  64, 128],\n",
       "        [ 81,   0,  81]],\n",
       "\n",
       "       [[  0,   0,  70],\n",
       "        [ 70,  70,  70],\n",
       "        [ 70,  70,  70],\n",
       "        ...,\n",
       "        [ 70,  70,  70],\n",
       "        [ 70,  70,  70],\n",
       "        [  0,   0,  70]],\n",
       "\n",
       "       [[  0,   0,   0],\n",
       "        [  0,   0,   0],\n",
       "        [  0,   0,   0],\n",
       "        ...,\n",
       "        [  0,   0,   0],\n",
       "        [ 81,   0,  81],\n",
       "        [  0,   0,   0]]], dtype=uint8)"
      ]
     },
     "execution_count": 67,
     "metadata": {},
     "output_type": "execute_result"
    }
   ],
   "source": [
    "label_converted = onehot_to_img(label_one_hot, color_palette)\n",
    "label_converted "
   ]
  },
  {
   "cell_type": "code",
   "execution_count": 68,
   "metadata": {},
   "outputs": [],
   "source": [
    "# label"
   ]
  },
  {
   "cell_type": "code",
   "execution_count": 69,
   "metadata": {},
   "outputs": [
    {
     "data": {
      "text/plain": [
       "<matplotlib.image.AxesImage at 0x1d2ec464e88>"
      ]
     },
     "execution_count": 69,
     "metadata": {},
     "output_type": "execute_result"
    },
    {
     "data": {
      "image/png": "[encoded data removed]",
      "text/plain": [
       "<Figure size 432x288 with 1 Axes>"
      ]
     },
     "metadata": {
      "needs_background": "light"
     },
     "output_type": "display_data"
    }
   ],
   "source": [
    "plt.imshow(label_converted)"
   ]
  },
  {
   "cell_type": "markdown",
   "metadata": {},
   "source": [
    "## Resources:\n",
    "1. Why one-hot mapping is needed: https://stackoverflow.com/questions/40393735/one-hot-labelling-for-semantic-segmentation\n",
    "2. How to implement one-hot label mapping: https://github.com/qubvel/segmentation_models/issues/137"
   ]
  }
 ],
 "metadata": {
  "kernelspec": {
   "display_name": "Python 3",
   "language": "python",
   "name": "python3"
  },
  "language_info": {
   "codemirror_mode": {
    "name": "ipython",
    "version": 3
   },
   "file_extension": ".py",
   "mimetype": "text/x-python",
   "name": "python",
   "nbconvert_exporter": "python",
   "pygments_lexer": "ipython3",
   "version": "3.7.6"
  }
 },
 "nbformat": 4,
 "nbformat_minor": 4
}
